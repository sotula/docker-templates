{
 "cells": [
  {
   "cell_type": "code",
   "execution_count": 1,
   "id": "e5f70621",
   "metadata": {},
   "outputs": [],
   "source": [
    "import json\n",
    "import requests\n",
    "from skimage import io\n",
    "from codecs import encode\n",
    "import base64\n",
    "from io import BytesIO\n",
    "import os\n",
    "from datetime import  datetime"
   ]
  },
  {
   "cell_type": "code",
   "execution_count": 19,
   "id": "f8bb3a74",
   "metadata": {},
   "outputs": [],
   "source": [
    "url = 'http://127.0.0.1:443/api/getScore'"
   ]
  },
  {
   "cell_type": "code",
   "execution_count": 20,
   "id": "f6c51e36",
   "metadata": {},
   "outputs": [
    {
     "name": "stdout",
     "output_type": "stream",
     "text": [
      "2023-02-16 22:09:44.556119\n"
     ]
    }
   ],
   "source": [
    "response = requests.request(\"GET\", url, json={}, verify=False)          \n",
    "print(datetime.now())"
   ]
  },
  {
   "cell_type": "code",
   "execution_count": 21,
   "id": "e1c13b14",
   "metadata": {},
   "outputs": [
    {
     "data": {
      "text/plain": [
       "'{\"class\":1,\"proba\":0.99}\\n'"
      ]
     },
     "execution_count": 21,
     "metadata": {},
     "output_type": "execute_result"
    }
   ],
   "source": [
    "response.text"
   ]
  },
  {
   "cell_type": "code",
   "execution_count": null,
   "id": "c30fdb89-d2a6-4e3c-8dee-181e23ae7284",
   "metadata": {},
   "outputs": [],
   "source": []
  }
 ],
 "metadata": {
  "kernelspec": {
   "display_name": "Python 3 (ipykernel)",
   "language": "python",
   "name": "python3"
  },
  "language_info": {
   "codemirror_mode": {
    "name": "ipython",
    "version": 3
   },
   "file_extension": ".py",
   "mimetype": "text/x-python",
   "name": "python",
   "nbconvert_exporter": "python",
   "pygments_lexer": "ipython3",
   "version": "3.9.13"
  }
 },
 "nbformat": 4,
 "nbformat_minor": 5
}
